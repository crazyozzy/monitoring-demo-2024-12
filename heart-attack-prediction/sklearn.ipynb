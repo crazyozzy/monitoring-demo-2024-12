{
 "cells": [
  {
   "cell_type": "code",
   "execution_count": 63,
   "metadata": {},
   "outputs": [],
   "source": [
    "# Импортируем нужные нам библиотеки\n",
    "from sklearn import (metrics, model_selection as skms, naive_bayes,\n",
    "                     neighbors, tree, gaussian_process, neural_network, \n",
    "                     preprocessing, linear_model, svm)\n",
    "import pandas as pd"
   ]
  },
  {
   "cell_type": "code",
   "execution_count": 27,
   "metadata": {},
   "outputs": [],
   "source": [
    "# Загружаем CSV файл\n",
    "dataframe = pd.read_csv('heart.csv')\n",
    "\n",
    "# Определяем колонки с данными и колонку с признаком\n",
    "dataframe_data = dataframe.drop('output', axis=1)\n",
    "dataframe_target = dataframe['output']"
   ]
  },
  {
   "cell_type": "code",
   "execution_count": 64,
   "metadata": {},
   "outputs": [],
   "source": [
    "# Разбиваем наши данные на тренировочную и тестовую выборку в соотношении 80/20\n",
    "(dataframe_train_ftrs, dataframe_test_ftrs,\n",
    " dataframe_train_tgt, dataframe_test_tgt) = skms.train_test_split(dataframe_data,\n",
    "                                                                   dataframe_target,\n",
    "                                                                   test_size=0.3)"
   ]
  },
  {
   "cell_type": "code",
   "execution_count": 65,
   "metadata": {},
   "outputs": [],
   "source": [
    "# Определяем модели для их дальнейшего сравнения\n",
    "models = {'K nearest neighbors': neighbors.KNeighborsClassifier(),\n",
    "          'Naive bayes': naive_bayes.GaussianNB(),\n",
    "          'Decision tree': tree.DecisionTreeClassifier(),\n",
    "          'Linear model': linear_model.RidgeClassifier(),\n",
    "          'Support Vector Machines': svm.SVC(),\n",
    "          'Stochastic Gradient Descent': linear_model.SGDClassifier(),\n",
    "          'Gauss': gaussian_process.GaussianProcessClassifier(),\n",
    "          'Neural network': neural_network.MLPClassifier()}"
   ]
  },
  {
   "cell_type": "code",
   "execution_count": 66,
   "metadata": {},
   "outputs": [
    {
     "name": "stdout",
     "output_type": "stream",
     "text": [
      "K nearest neighbors: 0.6153846153846154\n",
      "Naive bayes: 0.7362637362637363\n",
      "Decision tree: 0.7142857142857143\n",
      "Linear model: 0.7802197802197802\n",
      "Support Vector Machines: 0.5934065934065934\n",
      "Stochastic Gradient Descent: 0.5494505494505495\n",
      "Gauss: 0.5824175824175825\n",
      "Neural network: 0.6923076923076923\n"
     ]
    }
   ],
   "source": [
    "# Производим тренировку и выводим метрику для каждой модели\n",
    "for name, model in models.items():\n",
    "    fit = model.fit(dataframe_train_ftrs, dataframe_train_tgt)\n",
    "    predictions = fit.predict(dataframe_test_ftrs)\n",
    "\n",
    "    score = metrics.accuracy_score(dataframe_test_tgt, predictions)\n",
    "    print(\"{}: {}\".format(name, score))"
   ]
  }
 ],
 "metadata": {
  "kernelspec": {
   "display_name": "Python 3",
   "language": "python",
   "name": "python3"
  },
  "language_info": {
   "codemirror_mode": {
    "name": "ipython",
    "version": 3
   },
   "file_extension": ".py",
   "mimetype": "text/x-python",
   "name": "python",
   "nbconvert_exporter": "python",
   "pygments_lexer": "ipython3",
   "version": "3.12.1"
  }
 },
 "nbformat": 4,
 "nbformat_minor": 2
}
