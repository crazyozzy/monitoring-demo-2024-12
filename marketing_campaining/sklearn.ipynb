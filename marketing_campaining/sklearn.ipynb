{
 "cells": [
  {
   "cell_type": "code",
   "execution_count": 232,
   "metadata": {},
   "outputs": [],
   "source": [
    "# Импортируем нужные нам библиотеки\n",
    "from sklearn import (metrics, model_selection as skms, naive_bayes,\n",
    "                     neighbors, tree, gaussian_process, neural_network, \n",
    "                     preprocessing, linear_model, svm)\n",
    "import pandas as pd\n",
    "import numpy as np\n",
    "import matplotlib.pyplot as plt\n",
    "%matplotlib inline"
   ]
  },
  {
   "cell_type": "code",
   "execution_count": 233,
   "metadata": {},
   "outputs": [],
   "source": [
    "# Загружаем CSV файл и удаляем неинтересующие нас колонки\n",
    "dataframe = pd.read_csv('marketing_campaign.csv', delimiter='\\t')\n",
    "dataframe = dataframe.drop(columns=['ID','Dt_Customer'])"
   ]
  },
  {
   "cell_type": "code",
   "execution_count": 234,
   "metadata": {},
   "outputs": [],
   "source": [
    "# Производим кодирование текстовых признаков\n",
    "scaler_encoder = preprocessing.OrdinalEncoder(encoded_missing_value=-1)\n",
    "dataframe[['Education', 'Marital_Status']]=scaler_encoder.fit_transform(dataframe[['Education', 'Marital_Status']])"
   ]
  },
  {
   "cell_type": "code",
   "execution_count": 235,
   "metadata": {},
   "outputs": [
    {
     "data": {
      "text/plain": [
       "array([], shape=(0, 2), dtype=int64)"
      ]
     },
     "execution_count": 235,
     "metadata": {},
     "output_type": "execute_result"
    }
   ],
   "source": [
    "# Удаляем строки в которых остались значения не являющиеся числом\n",
    "dataframe = dataframe.dropna()\n",
    "np.argwhere(np.isnan(dataframe))"
   ]
  },
  {
   "cell_type": "code",
   "execution_count": 236,
   "metadata": {},
   "outputs": [],
   "source": [
    "# Определяем колонки с данными и колонку с признаком\n",
    "dataframe_data = dataframe.drop(columns=['Response'])\n",
    "dataframe_target = dataframe['Response']"
   ]
  },
  {
   "cell_type": "code",
   "execution_count": 237,
   "metadata": {},
   "outputs": [],
   "source": [
    "# Разбиваем наши данные на тренировочную и тестовую выборку в соотношении 80/20\n",
    "(dataframe_train_ftrs, dataframe_test_ftrs,\n",
    " dataframe_train_tgt, dataframe_test_tgt) = skms.train_test_split(dataframe_data,\n",
    "                                                                   dataframe_target,\n",
    "                                                                   test_size=0.2,\n",
    "                                                                   random_state=42)"
   ]
  },
  {
   "cell_type": "code",
   "execution_count": 238,
   "metadata": {},
   "outputs": [],
   "source": [
    "# Производим нормализацию данных\n",
    "scaler = preprocessing.StandardScaler()\n",
    "\n",
    "dataframe_train_ftrs_scaled = scaler.fit_transform(dataframe_train_ftrs)\n",
    "dataframe_test_ftrs_scaled = scaler.transform(dataframe_test_ftrs)"
   ]
  },
  {
   "cell_type": "code",
   "execution_count": 239,
   "metadata": {},
   "outputs": [],
   "source": [
    "# Определяем модели для их дальнейшего сравнения\n",
    "models = {'K nearest neighbors': neighbors.KNeighborsClassifier(),\n",
    "          'Naive bayes': naive_bayes.GaussianNB(),\n",
    "          'Decision tree': tree.DecisionTreeClassifier(),\n",
    "          'Linear model': linear_model.RidgeClassifier(),\n",
    "          'Support Vectors': svm.SVC(),\n",
    "          'Stochastic Gradient Descent': linear_model.SGDClassifier(),\n",
    "          'Gauss': gaussian_process.GaussianProcessClassifier(),\n",
    "          'Neural network': neural_network.MLPClassifier()}"
   ]
  },
  {
   "cell_type": "code",
   "execution_count": 242,
   "metadata": {},
   "outputs": [
    {
     "name": "stdout",
     "output_type": "stream",
     "text": [
      "K nearest neighbors: 0.8716216216216216\n",
      "Naive bayes: 0.8018018018018018\n",
      "Decision tree: 0.8513513513513513\n",
      "Linear model: 0.8738738738738738\n",
      "Support Vectors: 0.8761261261261262\n",
      "Stochastic Gradient Descent: 0.8536036036036037\n",
      "Gauss: 0.8873873873873874\n",
      "Neural network: 0.8828828828828829\n"
     ]
    },
    {
     "name": "stderr",
     "output_type": "stream",
     "text": [
      "c:\\Users\\crazy\\AppData\\Local\\Programs\\Python\\Python312\\Lib\\site-packages\\sklearn\\neural_network\\_multilayer_perceptron.py:691: ConvergenceWarning: Stochastic Optimizer: Maximum iterations (200) reached and the optimization hasn't converged yet.\n",
      "  warnings.warn(\n"
     ]
    }
   ],
   "source": [
    "# Производим тренировку и выводим метрику для каждой модели\n",
    "for name, model in models.items():\n",
    "    fit = model.fit(dataframe_train_ftrs_scaled, dataframe_train_tgt)\n",
    "    predictions = fit.predict(dataframe_test_ftrs_scaled)\n",
    "\n",
    "    score = metrics.accuracy_score(dataframe_test_tgt, predictions)\n",
    "    print(\"{}: {}\".format(name, score))"
   ]
  },
  {
   "cell_type": "code",
   "execution_count": 241,
   "metadata": {},
   "outputs": [],
   "source": [
    "# fig, ax = plt.subplots(figsize=(12,8))\n",
    "\n",
    "# for name, model in models.items():\n",
    "#     cv_scores = skms.cross_val_score(model,\n",
    "#                                      dataframe_train_ftrs_scaled, dataframe_train_tgt, \n",
    "#                                      cv=5, scoring='accuracy',\n",
    "#                                      n_jobs=-1)\n",
    "#     my_lbl = \"{} {:.3f}\".format(name, cv_scores.mean())\n",
    "#     ax.plot(cv_scores, '-o', label=my_lbl) # marker=next(markers)\n",
    "\n",
    "# ax.set_ylim(0.6, 1.0)\n",
    "# ax.set_xlabel('Fold')\n",
    "# ax.set_ylabel('Accuracy')\n",
    "# ax.legend(ncol=2);"
   ]
  }
 ],
 "metadata": {
  "kernelspec": {
   "display_name": "Python 3",
   "language": "python",
   "name": "python3"
  },
  "language_info": {
   "codemirror_mode": {
    "name": "ipython",
    "version": 3
   },
   "file_extension": ".py",
   "mimetype": "text/x-python",
   "name": "python",
   "nbconvert_exporter": "python",
   "pygments_lexer": "ipython3",
   "version": "3.12.1"
  }
 },
 "nbformat": 4,
 "nbformat_minor": 2
}
