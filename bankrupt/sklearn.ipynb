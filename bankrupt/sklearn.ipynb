{
 "cells": [
  {
   "cell_type": "code",
   "execution_count": 53,
   "metadata": {},
   "outputs": [],
   "source": [
    "# Импортируем нужные нам библиотеки\n",
    "from sklearn import (metrics, model_selection as skms, naive_bayes,\n",
    "                     neighbors, tree, gaussian_process, neural_network, \n",
    "                     preprocessing, linear_model, svm)\n",
    "import pandas as pd"
   ]
  },
  {
   "cell_type": "code",
   "execution_count": 39,
   "metadata": {},
   "outputs": [],
   "source": [
    "# Загружаем CSV файл\n",
    "dataframe = pd.read_csv('data.csv')\n",
    "\n",
    "# Определяем колонки с данными и колонку с признаком\n",
    "dataframe_data = dataframe.drop('Bankrupt?', axis=1)\n",
    "dataframe_target = dataframe['Bankrupt?']"
   ]
  },
  {
   "cell_type": "code",
   "execution_count": 58,
   "metadata": {},
   "outputs": [],
   "source": [
    "# Разбиваем наши данные на тренировочную и тестовую выборку в соотношении 80/20\n",
    "(dataframe_train_ftrs, dataframe_test_ftrs,\n",
    " dataframe_train_tgt, dataframe_test_tgt) = skms.train_test_split(dataframe_data,\n",
    "                                                                   dataframe_target,\n",
    "                                                                   test_size=0.2)"
   ]
  },
  {
   "cell_type": "code",
   "execution_count": 60,
   "metadata": {},
   "outputs": [],
   "source": [
    "# Производим нормализацию данных\n",
    "scaler = preprocessing.Normalizer()\n",
    "dataframe_train_ftrs_scaled = scaler.fit_transform(dataframe_train_ftrs)\n",
    "dataframe_test_ftrs_scaled = scaler.transform(dataframe_test_ftrs)"
   ]
  },
  {
   "cell_type": "code",
   "execution_count": 54,
   "metadata": {},
   "outputs": [],
   "source": [
    "# Определяем модели для их дальнейшего сравнения\n",
    "models = {'K nearest neighbors': neighbors.KNeighborsClassifier(),\n",
    "          'Naive bayes': naive_bayes.GaussianNB(),\n",
    "          'Decision tree': tree.DecisionTreeClassifier(),\n",
    "          'Linear model': linear_model.RidgeClassifier(),\n",
    "          'Support Vector Machines': svm.SVC(),\n",
    "          'Stochastic Gradient Descent': linear_model.SGDClassifier(),\n",
    "          'Gauss': gaussian_process.GaussianProcessClassifier(),\n",
    "          'Neural network': neural_network.MLPClassifier()}"
   ]
  },
  {
   "cell_type": "code",
   "execution_count": null,
   "metadata": {},
   "outputs": [
    {
     "name": "stdout",
     "output_type": "stream",
     "text": [
      "K nearest neighbors: 0.9633431085043989\n",
      "Naive bayes: 0.06598240469208211\n",
      "Decision tree: 0.9379276637341154\n",
      "Linear model: 0.9652981427174976\n",
      "Support Vector Machines: 0.9652981427174976\n",
      "Stochastic Gradient Descent: 0.9652981427174976\n",
      "Gauss: 0.9652981427174976\n",
      "Neural network: 0.9648093841642229\n"
     ]
    },
    {
     "name": "stderr",
     "output_type": "stream",
     "text": [
      "c:\\Users\\crazy\\AppData\\Local\\Programs\\Python\\Python312\\Lib\\site-packages\\sklearn\\neural_network\\_multilayer_perceptron.py:691: ConvergenceWarning: Stochastic Optimizer: Maximum iterations (200) reached and the optimization hasn't converged yet.\n",
      "  warnings.warn(\n"
     ]
    }
   ],
   "source": [
    "# Производим тренировку и выводим метрику для каждой модели\n",
    "for name, model in models.items():\n",
    "    fit = model.fit(dataframe_train_ftrs_scaled, dataframe_train_tgt)\n",
    "    predictions = fit.predict(dataframe_test_ftrs_scaled)\n",
    "\n",
    "    score = metrics.accuracy_score(dataframe_test_tgt, predictions)\n",
    "    print(\"{}: {}\".format(name, score))"
   ]
  },
  {
   "cell_type": "code",
   "execution_count": 61,
   "metadata": {},
   "outputs": [
    {
     "name": "stdout",
     "output_type": "stream",
     "text": [
      "K nearest neighbors: 0.968475073313783\n",
      "Naive bayes: 0.05865102639296188\n",
      "Decision tree: 0.9420821114369502\n",
      "Linear model: 0.967741935483871\n",
      "Support Vector Machines: 0.967741935483871\n",
      "Stochastic Gradient Descent: 0.967741935483871\n",
      "Gauss: 0.967741935483871\n",
      "Neural network: 0.968475073313783\n"
     ]
    },
    {
     "name": "stderr",
     "output_type": "stream",
     "text": [
      "c:\\Users\\crazy\\AppData\\Local\\Programs\\Python\\Python312\\Lib\\site-packages\\sklearn\\neural_network\\_multilayer_perceptron.py:691: ConvergenceWarning: Stochastic Optimizer: Maximum iterations (200) reached and the optimization hasn't converged yet.\n",
      "  warnings.warn(\n"
     ]
    }
   ],
   "source": [
    "# Производим тренировку и выводим метрику для каждой модели\n",
    "for name, model in models.items():\n",
    "    fit = model.fit(dataframe_train_ftrs_scaled, dataframe_train_tgt)\n",
    "    predictions = fit.predict(dataframe_test_ftrs_scaled)\n",
    "\n",
    "    score = metrics.accuracy_score(dataframe_test_tgt, predictions)\n",
    "    print(\"{}: {}\".format(name, score))"
   ]
  }
 ],
 "metadata": {
  "kernelspec": {
   "display_name": "Python 3",
   "language": "python",
   "name": "python3"
  },
  "language_info": {
   "codemirror_mode": {
    "name": "ipython",
    "version": 3
   },
   "file_extension": ".py",
   "mimetype": "text/x-python",
   "name": "python",
   "nbconvert_exporter": "python",
   "pygments_lexer": "ipython3",
   "version": "3.12.1"
  }
 },
 "nbformat": 4,
 "nbformat_minor": 2
}
