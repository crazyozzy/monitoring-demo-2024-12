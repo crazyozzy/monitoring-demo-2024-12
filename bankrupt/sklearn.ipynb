{
 "cells": [
  {
   "cell_type": "code",
   "execution_count": null,
   "metadata": {},
   "outputs": [],
   "source": [
    "# Импортируем нужные нам библиотеки\n",
    "from sklearn import (metrics, model_selection as skms, naive_bayes,\n",
    "                     neighbors, tree, gaussian_process, neural_network, \n",
    "                     preprocessing, linear_model, svm)\n",
    "import pandas as pd"
   ]
  },
  {
   "cell_type": "code",
   "execution_count": null,
   "metadata": {},
   "outputs": [],
   "source": [
    "# Загружаем CSV файл\n",
    "dataframe = pd.read_csv('data.csv')\n",
    "\n",
    "# Определяем колонки с данными и колонку с признаком\n",
    "dataframe_data = dataframe.drop('Bankrupt?', axis=1)\n",
    "dataframe_target = dataframe['Bankrupt?']\n",
    "\n",
    "dataframe.head()"
   ]
  },
  {
   "cell_type": "code",
   "execution_count": null,
   "metadata": {},
   "outputs": [],
   "source": [
    "# Разбиваем наши данные на тренировочную и тестовую выборку в соотношении 80/20\n",
    "(dataframe_train_ftrs, dataframe_test_ftrs,\n",
    " dataframe_train_tgt, dataframe_test_tgt) = skms.train_test_split(dataframe_data,\n",
    "                                                                   dataframe_target,\n",
    "                                                                   test_size=0.2)"
   ]
  },
  {
   "cell_type": "code",
   "execution_count": null,
   "metadata": {},
   "outputs": [],
   "source": [
    "# Производим нормализацию данных\n",
    "scaler = preprocessing.Normalizer()\n",
    "dataframe_train_ftrs_scaled = scaler.fit_transform(dataframe_train_ftrs)\n",
    "dataframe_test_ftrs_scaled = scaler.transform(dataframe_test_ftrs)"
   ]
  },
  {
   "cell_type": "code",
   "execution_count": null,
   "metadata": {},
   "outputs": [],
   "source": [
    "# Определяем модели для их дальнейшего сравнения\n",
    "models = {'K nearest neighbors': neighbors.KNeighborsClassifier(),\n",
    "          'Naive bayes': naive_bayes.GaussianNB(),\n",
    "          'Decision tree': tree.DecisionTreeClassifier(),\n",
    "          'Linear model': linear_model.RidgeClassifier(),\n",
    "          'Support Vector Machines': svm.SVC(),\n",
    "          'Stochastic Gradient Descent': linear_model.SGDClassifier(),\n",
    "          'Gauss': gaussian_process.GaussianProcessClassifier(),\n",
    "          'Neural network': neural_network.MLPClassifier()}"
   ]
  },
  {
   "cell_type": "code",
   "execution_count": null,
   "metadata": {},
   "outputs": [],
   "source": [
    "# Производим тренировку и выводим метрику для каждой модели\n",
    "for name, model in models.items():\n",
    "    fit = model.fit(dataframe_train_ftrs_scaled, dataframe_train_tgt)\n",
    "    predictions = fit.predict(dataframe_test_ftrs_scaled)\n",
    "\n",
    "    score = metrics.accuracy_score(dataframe_test_tgt, predictions)\n",
    "    print(\"{}: {}\".format(name, score))"
   ]
  }
 ],
 "metadata": {
  "kernelspec": {
   "display_name": "Python 3",
   "language": "python",
   "name": "python3"
  },
  "language_info": {
   "codemirror_mode": {
    "name": "ipython",
    "version": 3
   },
   "file_extension": ".py",
   "mimetype": "text/x-python",
   "name": "python",
   "nbconvert_exporter": "python",
   "pygments_lexer": "ipython3",
   "version": "3.12.1"
  }
 },
 "nbformat": 4,
 "nbformat_minor": 2
}
